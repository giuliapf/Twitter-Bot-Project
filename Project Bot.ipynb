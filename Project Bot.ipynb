{
 "cells": [
  {
   "cell_type": "markdown",
   "id": "a4533cec-974e-45ca-bb24-11ca303286cd",
   "metadata": {},
   "source": [
    "<center><b>Twitter Bot Project</b></center>\n",
    "<center>Giulia Pappalardo</center>\n",
    "\n",
    "---"
   ]
  },
  {
   "cell_type": "markdown",
   "id": "53be846d-b073-4285-8a60-b14e751733de",
   "metadata": {
    "tags": []
   },
   "source": [
    "# Introduction\n",
    "1. The topic I chose to focus on was the notion of constructing a chatbot that can  access Twitter and determine keywords that are associated with hate speech. Nowadays, social media has become a way for multiple people to connect, becoming even more essential after the pandemic, which highlighted the need for human connection. Therefore, it is necessary that social media becomes a safe space for people to use without being targeted by slurs, hate speech, and other offensive words that create unsafe areas making communities uncomfortable. With the creation of this chatbot, I will be able to select words that are associated with this hazardous language and then assemble a way for the bot to send out a specific response that counters this type of discourse. Overall, my idea is to create a way for Twitter to become safer for people to use and go through the loopholes that may have been developed by some users as Twitter tried to oppose these tactics."
   ]
  },
  {
   "cell_type": "markdown",
   "id": "ef2157c5-a894-4436-bf53-b9f4b839aea0",
   "metadata": {},
   "source": [
    "# Materials\n",
    "1. The methods that I used in this project are the Jupyter lab and Tweepy in order to assemble a bot that can access Twitter and pick out the different words of my choosing.\n",
    "2. I also used the DIGHUM101 notebooks, especially notebook 3.3, which focuses on Tweepy and how to set it up. \n",
    "3. Moreover, I will used resources like the Stanford Encyclopedia, which show examples of what hate speech encompasses. "
   ]
  },
  {
   "cell_type": "markdown",
   "id": "55267ab6-72e5-4241-99bc-f5400587ac49",
   "metadata": {},
   "source": [
    "# Research\n",
    "1. To be able to find all the racial slurs that Twitter can't usually eradicate, I had to look through various websites that talked about how Twitter continued to have discriminatory language and displayed some instances. However, it was still challenging to locate words themselves because of the stigma behind them, so I scoured through academic pages to find examples and then used my code to see if they were present on Twitter.\n",
    "2. I also looked at examples of what to say when people use hate speech in order to discourage this type of activity. "
   ]
  },
  {
   "cell_type": "code",
   "execution_count": 13,
   "id": "ddef3c20-1366-4bb3-989f-08766029bdd1",
   "metadata": {},
   "outputs": [
    {
     "name": "stdout",
     "output_type": "stream",
     "text": [
      "Requirement already satisfied: praw in /Users/giuliapappalardo/opt/anaconda3/lib/python3.9/site-packages (7.6.0)\n",
      "Requirement already satisfied: prawcore<3,>=2.1 in /Users/giuliapappalardo/opt/anaconda3/lib/python3.9/site-packages (from praw) (2.3.0)\n",
      "Requirement already satisfied: update-checker>=0.18 in /Users/giuliapappalardo/opt/anaconda3/lib/python3.9/site-packages (from praw) (0.18.0)\n",
      "Requirement already satisfied: websocket-client>=0.54.0 in /Users/giuliapappalardo/opt/anaconda3/lib/python3.9/site-packages (from praw) (0.58.0)\n",
      "Requirement already satisfied: requests<3.0,>=2.6.0 in /Users/giuliapappalardo/opt/anaconda3/lib/python3.9/site-packages (from prawcore<3,>=2.1->praw) (2.27.1)\n",
      "Requirement already satisfied: idna<4,>=2.5 in /Users/giuliapappalardo/opt/anaconda3/lib/python3.9/site-packages (from requests<3.0,>=2.6.0->prawcore<3,>=2.1->praw) (3.3)\n",
      "Requirement already satisfied: urllib3<1.27,>=1.21.1 in /Users/giuliapappalardo/opt/anaconda3/lib/python3.9/site-packages (from requests<3.0,>=2.6.0->prawcore<3,>=2.1->praw) (1.26.9)\n",
      "Requirement already satisfied: certifi>=2017.4.17 in /Users/giuliapappalardo/opt/anaconda3/lib/python3.9/site-packages (from requests<3.0,>=2.6.0->prawcore<3,>=2.1->praw) (2021.10.8)\n",
      "Requirement already satisfied: charset-normalizer~=2.0.0 in /Users/giuliapappalardo/opt/anaconda3/lib/python3.9/site-packages (from requests<3.0,>=2.6.0->prawcore<3,>=2.1->praw) (2.0.4)\n",
      "Requirement already satisfied: six in /Users/giuliapappalardo/opt/anaconda3/lib/python3.9/site-packages (from websocket-client>=0.54.0->praw) (1.16.0)\n",
      "Requirement already satisfied: tweepy in /Users/giuliapappalardo/opt/anaconda3/lib/python3.9/site-packages (4.10.0)\n",
      "Requirement already satisfied: oauthlib<4,>=3.2.0 in /Users/giuliapappalardo/opt/anaconda3/lib/python3.9/site-packages (from tweepy) (3.2.0)\n",
      "Requirement already satisfied: requests-oauthlib<2,>=1.2.0 in /Users/giuliapappalardo/opt/anaconda3/lib/python3.9/site-packages (from tweepy) (1.3.1)\n",
      "Requirement already satisfied: requests<3,>=2.27.0 in /Users/giuliapappalardo/opt/anaconda3/lib/python3.9/site-packages (from tweepy) (2.27.1)\n",
      "Requirement already satisfied: urllib3<1.27,>=1.21.1 in /Users/giuliapappalardo/opt/anaconda3/lib/python3.9/site-packages (from requests<3,>=2.27.0->tweepy) (1.26.9)\n",
      "Requirement already satisfied: certifi>=2017.4.17 in /Users/giuliapappalardo/opt/anaconda3/lib/python3.9/site-packages (from requests<3,>=2.27.0->tweepy) (2021.10.8)\n",
      "Requirement already satisfied: charset-normalizer~=2.0.0 in /Users/giuliapappalardo/opt/anaconda3/lib/python3.9/site-packages (from requests<3,>=2.27.0->tweepy) (2.0.4)\n",
      "Requirement already satisfied: idna<4,>=2.5 in /Users/giuliapappalardo/opt/anaconda3/lib/python3.9/site-packages (from requests<3,>=2.27.0->tweepy) (3.3)\n"
     ]
    }
   ],
   "source": [
    "# Library installation\n",
    "!pip install praw\n",
    "!pip install tweepy"
   ]
  },
  {
   "cell_type": "code",
   "execution_count": 14,
   "id": "90c60fd1-eb67-45cf-a2ff-f9e3cb7f9abd",
   "metadata": {},
   "outputs": [],
   "source": [
    "# Library imports\n",
    "import tweepy\n",
    "import pandas as pd \n",
    "import time"
   ]
  },
  {
   "cell_type": "code",
   "execution_count": 15,
   "id": "d6507616-9d2a-4f69-998e-f13f43192da4",
   "metadata": {},
   "outputs": [],
   "source": [
    "# Making the bot work with the keys\n",
    "auth = tweepy.OAuthHandler(\"TesUmwkc5yibzVSrUT7PdsQNM\", \"CsWskPHPx5HIqIkDXnj87HMbIAe7ADh0e9XhsrBNmfG2XnpWVs\")\n",
    "auth.set_access_token(\"1541879066470494208-vNs1SHRgZA1MyRVPc4TGaqDBJjgcga\", \"aEfagD4QaIaoqCmNCWHLNCmNi3bZbLoBs0FFbr14GamgC\")\n",
    "\n",
    "# Bot can tweet, retweet, read tweets, liking\n",
    "api = tweepy.API(auth)"
   ]
  },
  {
   "cell_type": "code",
   "execution_count": 16,
   "id": "efd149d7-1244-4953-901f-cdd9faace3b1",
   "metadata": {},
   "outputs": [],
   "source": [
    "# Keys\n",
    "consumer_key=\"TesUmwkc5yibzVSrUT7PdsQNM\"\n",
    "consumer_secret=\"CsWskPHPx5HIqIkDXnj87HMbIAe7ADh0e9XhsrBNmfG2XnpWVs\"\n",
    "access_token=\"1541879066470494208-vNs1SHRgZA1MyRVPc4TGaqDBJjgcga\"\n",
    "access_token_secret=\"aEfagD4QaIaoqCmNCWHLNCmNi3bZbLoBs0FFbr14GamgC\"\n",
    "bearer_token=\"AAAAAAAAAAAAAAAAAAAAADEHeQEAAAAAXlk01e94T8jMd8NFnkSUDyt44Hw%3DqFPbjBeHQt0pKG3sFQPVJMReTgl4zqYeRUpxOmV2HpIgJdX7kO\"\n",
    "\n",
    "\n",
    "import requests\n",
    "\n",
    "# Run it\n",
    "client = tweepy.Client( bearer_token=bearer_token, \n",
    "                        consumer_key=consumer_key, \n",
    "                        consumer_secret=consumer_secret, \n",
    "                        access_token=access_token, \n",
    "                        access_token_secret=access_token_secret, \n",
    "                        return_type = requests.Response,\n",
    "                        wait_on_rate_limit=True)"
   ]
  },
  {
   "cell_type": "code",
   "execution_count": 39,
   "id": "2fa52f0d-99fb-4231-a3c2-32a0720f462f",
   "metadata": {},
   "outputs": [],
   "source": [
    "# Look for tweets (key words) that we mention in query\n",
    "query = 'chink'\n",
    "tweets = client.search_recent_tweets(query=query, tweet_fields=['author_id', 'created_at'], max_results=50)"
   ]
  },
  {
   "cell_type": "code",
   "execution_count": 40,
   "id": "b9e60e74-bede-4159-823d-8134f1e1f093",
   "metadata": {},
   "outputs": [],
   "source": [
    "#tweet dictation\n",
    "say = tweets.json()\n",
    "\n",
    "#list shows up\n",
    "listcom = say[\"data\"]"
   ]
  },
  {
   "cell_type": "code",
   "execution_count": 41,
   "id": "4044ed70-133a-45af-b13a-7be890dc56f0",
   "metadata": {},
   "outputs": [
    {
     "name": "stdout",
     "output_type": "stream",
     "text": [
      "RT @pakifboy: Your Paki sister at school 😈\n",
      "\n",
      "#bleached #faithplay #interracial #MRNWO #slut  #muslim #bwc #dom #master #mistress #daddy #mom…\n",
      "@abbygoated my  bad its the overweight chink on this account (bligh)\n",
      "@Jake_Gearty The hope that there was one has been one of the highlights of the spring. I'm still clinging on to that (chink of) hope and will look again first thing 🤣\n",
      "RT @pakifboy: Muslim slut auditioning to please a white master while her cuck son is being bullied by white superior girls at school 😈\n",
      "\n",
      "#bl…\n",
      "RT @pakifboy: Mommy with Your New Daddy 😈🍆🤍🤍\n",
      "(P.s Don't be afraid to enter my dms ,everyone's welcome😁)\n",
      "\n",
      "#bleached #faithplay #interracial…\n",
      "RT @BWCDICKONLY: #bwc #bleached #gook #chink #wmaf #raceplay #asianhotwife #cuckold #colonizer #whitebull #petplay #asian #korean #asiangir…\n",
      "RT @pakifboy: Your Paki sister at school 😈\n",
      "\n",
      "#bleached #faithplay #interracial #MRNWO #slut  #muslim #bwc #dom #master #mistress #daddy #mom…\n",
      "@Chink_Inkk Great monochrome\n",
      "RT @sakurassisy: daily deepthroat training.the goal is 1 min.stupid chink pig failed.\n",
      "how do you want to punish her? https://t.co/vMiPdKEL0o\n",
      "RT @pakifboy: Your Paki sister at school 😈\n",
      "\n",
      "#bleached #faithplay #interracial #MRNWO #slut  #muslim #bwc #dom #master #mistress #daddy #mom…\n",
      "RT @isdatlewd: ♥️   Stay Comfy   ♥️\n",
      "\n",
      "Lily's favourite way of staying comfy is having daddy's phat BWC breeding her little chink hole &lt;333 h…\n",
      "RT @fukmeforreal: Always share with your friend❤ know who wants me to pump my load down her throat?💦\n",
      "\n",
      "#cumtribute #cocktribute #wanktribute…\n",
      "@chink_virus Absolutely\n",
      "@StevenCheah Chink dumplings\n",
      "RT @pakifboy: Mommy with Your New Daddy 😈🍆🤍🤍\n",
      "(P.s Don't be afraid to enter my dms ,everyone's welcome😁)\n",
      "\n",
      "#bleached #faithplay #interracial…\n",
      "Mommy with Your New Daddy 😈🍆🤍🤍\n",
      "(P.s Don't be afraid to enter my dms ,everyone's welcome😁)\n",
      "\n",
      "#bleached #faithplay #interracial #MRNWO #slut  #muslim #bwc #dom #master #mistress #daddy #mommy #chink #paki #arab #hijab https://t.co/earlxnLDgj\n",
      "@RetroArcadeMan @invinciblekop @BEBY2PAC Can’t think of another black man off the top of my head with a cleft in his chin. Seems like the chink in your argument, but feel free to blindly babble.\n",
      "RT @pakifboy: Cute....Your mom and sisters while you sit in the corner (caged) 🍆😈🤍\n",
      "\n",
      "#bleached #faithplay #interracial #MRNWO #slut  #muslim…\n",
      "@QUEEN___chink 😯🤭 https://t.co/uaKTjYAVI0\n",
      "@QUEEN___chink Nobody kares about us Aquarius I see didn’t even make the list 🥺🚶🏿‍♂️\n",
      "RT @pakifboy: Cute....Your mom and sisters while you sit in the corner (caged) 🍆😈🤍\n",
      "\n",
      "#bleached #faithplay #interracial #MRNWO #slut  #muslim…\n",
      "Cute....Your mom and sisters while you sit in the corner (caged) 🍆😈🤍\n",
      "\n",
      "#bleached #faithplay #interracial #MRNWO #slut  #muslim #bwc #dom #master #mistress #daddy #mommy #chink #paki #arab https://t.co/NRHASuxW6J\n",
      "@JDTwoRavens @The_Rae_Girl Fuck off chink https://t.co/yBzVInIHND\n",
      "@hubchiecrypto @veefriends @claymates @garyvee Nice! I have bought both as well. Have just gotten my @claymates collab card, and waiting for a big chink of @veefriends UNO cards https://t.co/gghU3AkSUq\n",
      "@JackNiewold Sir we don’t say chink in the armor” anymore #StopAsianHate https://t.co/k0OPciRD7F\n",
      "THE LUNA DEATH SPIRAL:\n",
      "\n",
      "While a tightening macro environment didn't help, the next chink in the armor was the Luna collapse.\n",
      "\n",
      "If you're not familiar, my friend Jon Wu explains below:\n",
      "\n",
      "https://t.co/ZeCiQGG1y3\n",
      "RT @xiaoshagou1: Chinese girls love big white cocks #raceplay #chink #gook #wmaf #sissy #cuck #cuckold https://t.co/6UAMOkJqQX\n",
      "RT @fukmeforreal: I need some #bigtits to make me cum! Any volunteers?\n",
      "\n",
      "#cumtribute #cocktribute #wanktribute #cumshot #facial #slut #bukka…\n",
      "Whatever, get over here. You fat assed chink. https://t.co/w4C9MzPGlp\n",
      "@Ra66itRunner I don’t know man… Sounds like a chink in the armor to me. She at least into #BLOPS ? She joined discord :?.\n",
      "\n",
      "https://t.co/vAmiAUkksT https://t.co/5ME03MGP6q\n",
      "Why did the chink fail his blood test? He didn't study!\n",
      "Chink came tf thruuuu\n",
      "Can ya cuck of chink bf even compare to X year old American stud? https://t.co/5Wo8Q51Xmq https://t.co/4Os2JQfHuc\n",
      "RT @pakifboy: Your Paki sister at school 😈\n",
      "\n",
      "#bleached #faithplay #interracial #MRNWO #slut  #muslim #bwc #dom #master #mistress #daddy #mom…\n",
      "@LandsharkRides i think you're allowed to say chink now, not that other word\n",
      "RT @pakifboy: Your Paki sister at school 😈\n",
      "\n",
      "#bleached #faithplay #interracial #MRNWO #slut  #muslim #bwc #dom #master #mistress #daddy #mom…\n",
      "RT @fukmeforreal: I need some #bigtits to make me cum! Any volunteers?\n",
      "\n",
      "#cumtribute #cocktribute #wanktribute #cumshot #facial #slut #bukka…\n",
      "@theesk Excellent as usual Paul. A very small acorn but just maybe there is a chink of light ….\n",
      "@AnasSarwar And you? How to get back the voters who left you for the SNP? How's it gonna be for you when the GE becomes a defacto ref? That's a whole chink of Labour voters gone. Remember all those brocken promises you made? Aye, so do we! #ScottishIndependence2023\n",
      "@hoblintownwtf ahhhh lets goo  @eduardocardena0 @Pepelotero @maxirnln @karenbruck @Farhanchy5 @jamaica_axel @imserenekoh @dipdinbutter @Armie_1 @MCIKED @IssaLag @RUBENDARIOROJA7 @taeloveeatcai @Madd_Chink @SuppaVILL\n",
      "RT @AokoOtieno_: Here's another article by a Luo intellectual to show u it is just a matter of time before we break the yoke. Read it or ef…\n",
      "RT @fukmeforreal: Always share with your friend❤ know who wants me to pump my load down her throat?💦\n",
      "\n",
      "#cumtribute #cocktribute #wanktribute…\n",
      "@maverick_kris @YawenXu17 Maybe one day you’ll not just be another chink in their eyes. It’s embarrassing that you don’t know the history of your own place of birth. And defend the historical enemy against your own.\n",
      "planning purposes? A lot of it in through a chink up at the last days of this House, that the Premier in her weeds. Notice because I’m 3/4\n",
      "i wish i could go unhinged and call everyone in the kpop community chink lovers\n",
      "@sicongshen You’ll still be a chink in the eyes of the majority of the folks in 🇺🇸 🤷🏻‍♂️\n",
      "one time i was called a “chink” and obviously i was offended. but the person said they meant it in a “cute” way. nah fuck that, you CANNOT dictate whether a person should be offended by what u called them.\n",
      "Born into this world, and that rice munching chink of a nurse gets turned into a BWC addict~\n",
      "\n",
      "Mama's best monkey friend goes braindead after being knocked up by her friend's stud of an infant~\n",
      "\n",
      "HE DESERVES THEM ALL~! https://t.co/BWUZGbBUjP https://t.co/8fvZI9LSdN\n"
     ]
    }
   ],
   "source": [
    "#get the tweets\n",
    "for each in listcom:\n",
    "    print(each[\"text\"])"
   ]
  },
  {
   "cell_type": "code",
   "execution_count": null,
   "id": "824d6b4f-c926-4cd3-a781-f9721858799e",
   "metadata": {},
   "outputs": [],
   "source": []
  },
  {
   "cell_type": "code",
   "execution_count": null,
   "id": "90204eb5-e2a9-46b3-971a-f0f3a5b6840c",
   "metadata": {},
   "outputs": [],
   "source": [
    "# Answer tweets with this\n",
    "\n",
    "# here I am making it so that if someone mentions my bot ill be able to see it \n",
    "\n",
    "while True:\n",
    "    mentions = api.mentions_timeline() #search for tweets that mention us\n",
    "    for mentions in mentions:\n",
    "        print(\"mention tweet found\")\n",
    "        print(f\"[mention.author.screen_name] - [mention.text]\") #prints the author and the text of the tweet\n",
    " \n",
    "# waits 15sec, its a delay to the program\n",
    "time.sleep(15)\n",
    "\n",
    "#this is supposed to show when people are mentioning the bot below, so we can see the tweets"
   ]
  },
  {
   "cell_type": "code",
   "execution_count": null,
   "id": "fc6dc3b9-1ec7-4e3d-9816-1bf6e3337da7",
   "metadata": {},
   "outputs": [],
   "source": [
    "#number of mentions it can bring back\n",
    "mention_id = 1\n",
    "#searches for tweets that only contain ids at the capability of 1, which means that itll only answer the tweets we havent answered already, \n",
    "#doesnt repeat tweets\n",
    "mention_id = mention.id\n",
    "\n",
    "# the words I am looking for\n",
    "words = (\"faggot, you retard, fucking faggot, feminatzi, sissy, chink, \")\n",
    "# response to the words that we highlighted\n",
    "message = (\"hey, you shouldnt be using that kind of language, please keep in mind that this is a shared platform where we try to make others feel comfortable\")\n",
    "\n",
    "# here I am making it so that if someone mentions my bot ill be able to see it \n",
    "while True:\n",
    "    mentions = api.mentions_timeline(since_id = mention_id)\n",
    "    for mentions in mentions:\n",
    "        print(\"mention tweet found\")\n",
    "        print(f\"[mention.author.screen_name] - [mention.text]\")\n",
    "        mention_id = mention.id\n",
    "        if mention.id_reply_to_status_id is None and mention.author.id !=bot.id: #check that tweet is not a reply to another tweet and that were not author of tweet\n",
    "            if True in [word in mention.text.lower() for word in words]:\n",
    "                try:\n",
    "                    print(\"Attempting to reply...\") #shows up in code when mention is located with key words\n",
    "                    api.update_status(message.format(mention.author.screen_name), in_reply_to_status_id = mention.id.str) #here we are replying to tweet with message above\n",
    "                    print(\"Reply successful\") #shows that the retweet was sent\n",
    "                except Exception as exc:\n",
    "                    print(exc) #\n",
    "                    \n",
    "                    \n",
    "        #trying to see we arent author of tweet, make sure our words are inside the tweet\n",
    "        #if the words arent there itll print the attempting to reply and if it did it says it was successful\n",
    "        #if you run this itll send the message\n",
    " \n",
    "#it waits 15sec\n",
    "time.sleep(15)"
   ]
  },
  {
   "cell_type": "markdown",
   "id": "5e0d766c-50e1-415f-bb3b-948e151b08a7",
   "metadata": {},
   "source": [
    "# Conclusion\n",
    "\n"
   ]
  },
  {
   "cell_type": "markdown",
   "id": "6f43768e-494d-4005-acff-92d61d102a22",
   "metadata": {},
   "source": [
    "1. In conclusion, I realized that I cannot just code a bot that targets a bunch of words because sometimes these words are better explained according to the situation. The context is important when you think of a response because some people may be talking about their personal experience with hate speech or describing another one's actions. This means the bot doesn't need to answer at this moment. At the same time, as the programmer, I sometimes don't have knowledge of the group being attacked, and I would need to inform myself before answering a specific tweet, not generating a generic response. I need to broaden my code in the future to locate these words precisely and make sure that they mean what they mean (like some words may mean another thing in another language), as well as being able to sort the tweets and replies in a more organized fashion.  \n",
    "2. Overall, I learned a lot about using Tweepy and gained more insight into how Twitter has specific developer programs that may help me expand my research. I feel a lot more confident in using python, especially being a beginner, after experimenting with it and seeing what makes certain things work. "
   ]
  },
  {
   "cell_type": "code",
   "execution_count": null,
   "id": "64cab8af-76a6-4ee8-a018-a3d53a4b3315",
   "metadata": {},
   "outputs": [],
   "source": []
  }
 ],
 "metadata": {
  "kernelspec": {
   "display_name": "Python 3 (ipykernel)",
   "language": "python",
   "name": "python3"
  },
  "language_info": {
   "codemirror_mode": {
    "name": "ipython",
    "version": 3
   },
   "file_extension": ".py",
   "mimetype": "text/x-python",
   "name": "python",
   "nbconvert_exporter": "python",
   "pygments_lexer": "ipython3",
   "version": "3.9.12"
  }
 },
 "nbformat": 4,
 "nbformat_minor": 5
}
